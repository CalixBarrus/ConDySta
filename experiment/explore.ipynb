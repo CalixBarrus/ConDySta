{
 "cells": [
  {
   "cell_type": "code",
   "execution_count": 12,
   "id": "540fccc5-4386-48aa-92fd-90fc2fb60a47",
   "metadata": {},
   "outputs": [],
   "source": [
    "import os\n",
    "import pandas as pd"
   ]
  },
  {
   "cell_type": "code",
   "execution_count": 4,
   "id": "16315094-7d76-4122-8ad2-1b7e1eb1ba97",
   "metadata": {},
   "outputs": [
    {
     "name": "stdout",
     "output_type": "stream",
     "text": [
      "True\n"
     ]
    }
   ],
   "source": [
    "project_root = os.path.dirname(os.getcwd())\n",
    "\n",
    "# How many sources have been found in what apps? \n",
    "# Which apps have ANR errors? \n",
    "# Manual gpbench, recursion depth of 1\n",
    "manual_full_gpbench_run1 = \"data/experiments/2024-10-10-logcat-processing-full-gpbench1/source_sink_paths.csv\"\n",
    "# Monkey (5s) gpbench, recursion depth of 1\n",
    "monkey_full_gpbench_run1 = \"data/experiments/2024-10-10-logcat-processing-full-gpbench0/source_sink_paths.csv\"\n",
    "# Monkey (5s) gpbench, recursion depth of 3\n",
    "monkey_full_gpbench_run3 = \"data/experiments/2024-10-09-logcat-processing-full-gpbench0/source_sink_paths.csv\"\n",
    "\n",
    "print(os.path.isfile(os.path.join(project_root, manual_full_gpbench_run1)))"
   ]
  },
  {
   "cell_type": "code",
   "execution_count": 7,
   "id": "2f58d0e4-8ef2-4b86-ad82-e1e8a41a120a",
   "metadata": {},
   "outputs": [
    {
     "name": "stdout",
     "output_type": "stream",
     "text": [
      "Index(['Benchmark ID', 'Benchmark ID.1', 'APK Name', 'Error Message',\n",
      "       'Selected Log Errors', 'Source Sink Path', 'Instrumentation Reports',\n",
      "       'Discovered Sources'],\n",
      "      dtype='object')\n",
      "Index(['Benchmark ID', 'Benchmark ID.1', 'APK Name', 'Error Message',\n",
      "       'Source Sink Path', 'Instrumentation Reports', 'Discovered Sources'],\n",
      "      dtype='object')\n",
      "Index(['Benchmark ID', 'Benchmark ID.1', 'APK Name', 'Error Message',\n",
      "       'Source Sink Path', 'Selected Error Messages',\n",
      "       'Instrumentation Reports', 'Discovered Sources'],\n",
      "      dtype='object')\n"
     ]
    }
   ],
   "source": [
    "for path in [manual_full_gpbench_run1, monkey_full_gpbench_run1, monkey_full_gpbench_run3]:\n",
    "    df = pd.read_csv(os.path.join(project_root, path))\n",
    "    \n",
    "    print(df.columns)\n"
   ]
  },
  {
   "cell_type": "code",
   "execution_count": 11,
   "id": "bc54185e-8e12-411b-86da-02bc22f5d946",
   "metadata": {},
   "outputs": [
    {
     "name": "stdout",
     "output_type": "stream",
     "text": [
      "    Benchmark ID  Instrumentation Reports\n",
      "0              1                    218.0\n",
      "4              5                     19.0\n",
      "12            13                     27.0\n",
      "18            19                     73.0\n",
      "    Benchmark ID  Discovered Sources\n",
      "0              1                29.0\n",
      "4              5                 8.0\n",
      "12            13                10.0\n",
      "    Benchmark ID  Instrumentation Reports\n",
      "3              4                    114.0\n",
      "4              5                     67.0\n",
      "18            19                     76.0\n",
      "19            20                     35.0\n",
      "    Benchmark ID  Discovered Sources\n",
      "3              4                 9.0\n",
      "4              5                12.0\n",
      "18            19                12.0\n",
      "19            20                10.0\n",
      "    Benchmark ID  Instrumentation Reports\n",
      "0              1                      3.0\n",
      "1              2                      6.0\n",
      "3              4                      3.0\n",
      "6              7                      3.0\n",
      "12            13                     11.0\n",
      "19            20                      3.0\n",
      "20            21                     32.0\n",
      "21            22                      3.0\n",
      "22            23                      3.0\n",
      "23            24                      3.0\n",
      "24            25                      3.0\n",
      "    Benchmark ID  Discovered Sources\n",
      "12            13                 1.0\n",
      "20            21                 2.0\n"
     ]
    }
   ],
   "source": [
    "for path in [manual_full_gpbench_run1, monkey_full_gpbench_run1, monkey_full_gpbench_run3]:\n",
    "    df = pd.read_csv(os.path.join(project_root, path))\n",
    "\n",
    "    print(df[df[\"Instrumentation Reports\"] > 0][[\"Benchmark ID\", \"Instrumentation Reports\"]])\n",
    "    print(df[df[\"Discovered Sources\"] > 0][[\"Benchmark ID\", \"Discovered Sources\"]])\n",
    "\n",
    "    \n"
   ]
  },
  {
   "cell_type": "code",
   "execution_count": null,
   "id": "5437afb4-9137-4fac-92bf-de6756aba6cd",
   "metadata": {},
   "outputs": [],
   "source": []
  }
 ],
 "metadata": {
  "kernelspec": {
   "display_name": "Python 3 (ipykernel)",
   "language": "python",
   "name": "python3"
  },
  "language_info": {
   "codemirror_mode": {
    "name": "ipython",
    "version": 3
   },
   "file_extension": ".py",
   "mimetype": "text/x-python",
   "name": "python",
   "nbconvert_exporter": "python",
   "pygments_lexer": "ipython3",
   "version": "3.12.4"
  }
 },
 "nbformat": 4,
 "nbformat_minor": 5
}
