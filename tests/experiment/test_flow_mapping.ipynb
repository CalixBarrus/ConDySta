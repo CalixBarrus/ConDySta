{
 "cells": [
  {
   "cell_type": "code",
   "execution_count": 5,
   "metadata": {},
   "outputs": [],
   "source": [
    "import os\n",
    "import shutil\n",
    "import pandas as pd\n",
    "import sys\n",
    "# import pytest\n",
    "\n",
    "# os.path.abspath(os.path.join(os.getcwd(), \"..\", \"..\"))"
   ]
  },
  {
   "cell_type": "code",
   "execution_count": 3,
   "metadata": {},
   "outputs": [
    {
     "name": "stdout",
     "output_type": "stream",
     "text": [
      "Requirement already satisfied: pytest in /Users/calix/miniconda3/envs/condysta/lib/python3.13/site-packages (7.4.4)\n",
      "Requirement already satisfied: iniconfig in /Users/calix/miniconda3/envs/condysta/lib/python3.13/site-packages (from pytest) (1.1.1)\n",
      "Requirement already satisfied: packaging in /Users/calix/miniconda3/envs/condysta/lib/python3.13/site-packages (from pytest) (24.1)\n",
      "Requirement already satisfied: pluggy<2.0,>=0.12 in /Users/calix/miniconda3/envs/condysta/lib/python3.13/site-packages (from pytest) (1.5.0)\n"
     ]
    }
   ],
   "source": [
    "!pip install pytest"
   ]
  },
  {
   "cell_type": "code",
   "execution_count": 6,
   "metadata": {},
   "outputs": [],
   "source": [
    "sys.path.append(os.path.abspath(os.path.join(os.getcwd(), \"..\", \"..\")))\n",
    "\n",
    "\n",
    "\n",
    "from experiment.benchmark_name import BenchmarkName\n",
    "from experiment.flow_mapping import apply_flow_mapping, get_observation_harness_to_observed_source_map, get_observation_harness_to_string_set_map, get_observed_string_to_original_source_map\n",
    "from intercept.decoded_apk_model import DecodedApkModel\n",
    "from intercept.instrument import HarnessObservations\n",
    "from tests.sample_results import get_mock_invocation_register_context"
   ]
  },
  {
   "cell_type": "code",
   "execution_count": 49,
   "metadata": {},
   "outputs": [
    {
     "data": {
      "application/vnd.microsoft.datawrangler.viewer.v0+json": {
       "columns": [
        {
         "name": "index",
         "rawType": "int64",
         "type": "integer"
        },
        {
         "name": "f",
         "rawType": "int64",
         "type": "integer"
        },
        {
         "name": "taint_function_name",
         "rawType": "object",
         "type": "string"
        },
        {
         "name": "context_method",
         "rawType": "object",
         "type": "string"
        },
        {
         "name": "context_class",
         "rawType": "object",
         "type": "string"
        },
        {
         "name": "sink_function",
         "rawType": "object",
         "type": "string"
        },
        {
         "name": "sink_context",
         "rawType": "object",
         "type": "string"
        }
       ],
       "conversionMethod": "pd.DataFrame",
       "ref": "62136ef9-3a04-488c-86fb-4a4d131088b5",
       "rows": [
        [
         "0",
         "0",
         "taint1",
         "a()",
         "Foo",
         "sink1()",
         "Bar/zap()"
        ],
        [
         "1",
         "1",
         "taint1",
         "a()",
         "Foo",
         "sink2()",
         "Bar/zap()"
        ],
        [
         "2",
         "2",
         "taint1",
         "a()",
         "Foo",
         "sink1()",
         "Bar/zap()"
        ],
        [
         "3",
         "3",
         "taint2",
         "a()",
         "Foo",
         "sink2()",
         "Bar/zap()"
        ],
        [
         "4",
         "4",
         "taint2",
         "a()",
         "Foo",
         "sink1()",
         "Bar/zap()"
        ],
        [
         "5",
         "5",
         "taint3",
         "mlem()",
         "Cats",
         "sink2()",
         "Bar/zap()"
        ],
        [
         "6",
         "6",
         "taintmax",
         "mlem()",
         "Cats",
         "sinkmax()",
         "Bar/zapmax()"
        ],
        [
         "7",
         "7",
         "taint_not_in_mapping",
         "mlem()",
         "Cats",
         "sink_not_mapped()",
         "Bar/zapmax()"
        ]
       ],
       "shape": {
        "columns": 6,
        "rows": 8
       }
      },
      "text/html": [
       "<div>\n",
       "<style scoped>\n",
       "    .dataframe tbody tr th:only-of-type {\n",
       "        vertical-align: middle;\n",
       "    }\n",
       "\n",
       "    .dataframe tbody tr th {\n",
       "        vertical-align: top;\n",
       "    }\n",
       "\n",
       "    .dataframe thead th {\n",
       "        text-align: right;\n",
       "    }\n",
       "</style>\n",
       "<table border=\"1\" class=\"dataframe\">\n",
       "  <thead>\n",
       "    <tr style=\"text-align: right;\">\n",
       "      <th></th>\n",
       "      <th>f</th>\n",
       "      <th>taint_function_name</th>\n",
       "      <th>context_method</th>\n",
       "      <th>context_class</th>\n",
       "      <th>sink_function</th>\n",
       "      <th>sink_context</th>\n",
       "    </tr>\n",
       "  </thead>\n",
       "  <tbody>\n",
       "    <tr>\n",
       "      <th>0</th>\n",
       "      <td>0</td>\n",
       "      <td>taint1</td>\n",
       "      <td>a()</td>\n",
       "      <td>Foo</td>\n",
       "      <td>sink1()</td>\n",
       "      <td>Bar/zap()</td>\n",
       "    </tr>\n",
       "    <tr>\n",
       "      <th>1</th>\n",
       "      <td>1</td>\n",
       "      <td>taint1</td>\n",
       "      <td>a()</td>\n",
       "      <td>Foo</td>\n",
       "      <td>sink2()</td>\n",
       "      <td>Bar/zap()</td>\n",
       "    </tr>\n",
       "    <tr>\n",
       "      <th>2</th>\n",
       "      <td>2</td>\n",
       "      <td>taint1</td>\n",
       "      <td>a()</td>\n",
       "      <td>Foo</td>\n",
       "      <td>sink1()</td>\n",
       "      <td>Bar/zap()</td>\n",
       "    </tr>\n",
       "    <tr>\n",
       "      <th>3</th>\n",
       "      <td>3</td>\n",
       "      <td>taint2</td>\n",
       "      <td>a()</td>\n",
       "      <td>Foo</td>\n",
       "      <td>sink2()</td>\n",
       "      <td>Bar/zap()</td>\n",
       "    </tr>\n",
       "    <tr>\n",
       "      <th>4</th>\n",
       "      <td>4</td>\n",
       "      <td>taint2</td>\n",
       "      <td>a()</td>\n",
       "      <td>Foo</td>\n",
       "      <td>sink1()</td>\n",
       "      <td>Bar/zap()</td>\n",
       "    </tr>\n",
       "    <tr>\n",
       "      <th>5</th>\n",
       "      <td>5</td>\n",
       "      <td>taint3</td>\n",
       "      <td>mlem()</td>\n",
       "      <td>Cats</td>\n",
       "      <td>sink2()</td>\n",
       "      <td>Bar/zap()</td>\n",
       "    </tr>\n",
       "    <tr>\n",
       "      <th>6</th>\n",
       "      <td>6</td>\n",
       "      <td>taintmax</td>\n",
       "      <td>mlem()</td>\n",
       "      <td>Cats</td>\n",
       "      <td>sinkmax()</td>\n",
       "      <td>Bar/zapmax()</td>\n",
       "    </tr>\n",
       "    <tr>\n",
       "      <th>7</th>\n",
       "      <td>7</td>\n",
       "      <td>taint_not_in_mapping</td>\n",
       "      <td>mlem()</td>\n",
       "      <td>Cats</td>\n",
       "      <td>sink_not_mapped()</td>\n",
       "      <td>Bar/zapmax()</td>\n",
       "    </tr>\n",
       "  </tbody>\n",
       "</table>\n",
       "</div>"
      ],
      "text/plain": [
       "   f   taint_function_name context_method context_class      sink_function  \\\n",
       "0  0                taint1            a()           Foo            sink1()   \n",
       "1  1                taint1            a()           Foo            sink2()   \n",
       "2  2                taint1            a()           Foo            sink1()   \n",
       "3  3                taint2            a()           Foo            sink2()   \n",
       "4  4                taint2            a()           Foo            sink1()   \n",
       "5  5                taint3         mlem()          Cats            sink2()   \n",
       "6  6              taintmax         mlem()          Cats          sinkmax()   \n",
       "7  7  taint_not_in_mapping         mlem()          Cats  sink_not_mapped()   \n",
       "\n",
       "   sink_context  \n",
       "0     Bar/zap()  \n",
       "1     Bar/zap()  \n",
       "2     Bar/zap()  \n",
       "3     Bar/zap()  \n",
       "4     Bar/zap()  \n",
       "5     Bar/zap()  \n",
       "6  Bar/zapmax()  \n",
       "7  Bar/zapmax()  "
      ]
     },
     "execution_count": 49,
     "metadata": {},
     "output_type": "execute_result"
    }
   ],
   "source": [
    "df1 = pd.DataFrame({\"f\": list(range(8)), \n",
    "                    \"taint_function_name\": [\"taint1\", \"taint1\", \"taint1\", \"taint2\", \"taint2\", \"taint3\", \"taintmax\", \"taint_not_in_mapping\"], \n",
    "                    \"context_method\": [\"a()\", \"a()\", \"a()\", \"a()\", \"a()\", \"mlem()\", \"mlem()\", \"mlem()\"],\n",
    "                    \"context_class\": [\"Foo\", \"Foo\", \"Foo\", \"Foo\", \"Foo\", \"Cats\", \"Cats\", \"Cats\"],\n",
    "                    \"sink_function\": [\"sink1()\", \"sink2()\", \"sink1()\", \"sink2()\", \"sink1()\", \"sink2()\", \"sinkmax()\", \"sink_not_mapped()\"],\n",
    "                    \"sink_context\": [\"Bar/zap()\", \"Bar/zap()\", \"Bar/zap()\", \"Bar/zap()\", \"Bar/zap()\", \"Bar/zap()\", \"Bar/zapmax()\", \"Bar/zapmax()\"],\n",
    "                    })\n",
    "df1"
   ]
  },
  {
   "cell_type": "code",
   "execution_count": 50,
   "metadata": {},
   "outputs": [
    {
     "data": {
      "application/vnd.microsoft.datawrangler.viewer.v0+json": {
       "columns": [
        {
         "name": "index",
         "rawType": "int64",
         "type": "integer"
        },
        {
         "name": "d",
         "rawType": "int64",
         "type": "integer"
        },
        {
         "name": "string_observed",
         "rawType": "object",
         "type": "string"
        },
        {
         "name": "taint_function_name",
         "rawType": "object",
         "type": "string"
        },
        {
         "name": "context_method",
         "rawType": "object",
         "type": "string"
        },
        {
         "name": "context_class",
         "rawType": "object",
         "type": "string"
        }
       ],
       "conversionMethod": "pd.DataFrame",
       "ref": "ac192435-79a7-413f-a485-d63edccc431f",
       "rows": [
        [
         "0",
         "0",
         "secret1",
         "taint1",
         "a()",
         "Foo"
        ],
        [
         "1",
         "1",
         "secret2",
         "taint2",
         "a()",
         "Foo"
        ],
        [
         "2",
         "2",
         "***secret1***",
         "taint3",
         "mlem()",
         "Cats"
        ],
        [
         "3",
         "3",
         "secretmax1",
         "taintmax",
         "mlem()",
         "Cats"
        ],
        [
         "4",
         "4",
         "secretmax2",
         "taintmax",
         "mlem()",
         "Cats"
        ],
        [
         "5",
         "5",
         "secret_unused",
         "taint4",
         "mlem()",
         "Cats"
        ]
       ],
       "shape": {
        "columns": 5,
        "rows": 6
       }
      },
      "text/html": [
       "<div>\n",
       "<style scoped>\n",
       "    .dataframe tbody tr th:only-of-type {\n",
       "        vertical-align: middle;\n",
       "    }\n",
       "\n",
       "    .dataframe tbody tr th {\n",
       "        vertical-align: top;\n",
       "    }\n",
       "\n",
       "    .dataframe thead th {\n",
       "        text-align: right;\n",
       "    }\n",
       "</style>\n",
       "<table border=\"1\" class=\"dataframe\">\n",
       "  <thead>\n",
       "    <tr style=\"text-align: right;\">\n",
       "      <th></th>\n",
       "      <th>d</th>\n",
       "      <th>string_observed</th>\n",
       "      <th>taint_function_name</th>\n",
       "      <th>context_method</th>\n",
       "      <th>context_class</th>\n",
       "    </tr>\n",
       "  </thead>\n",
       "  <tbody>\n",
       "    <tr>\n",
       "      <th>0</th>\n",
       "      <td>0</td>\n",
       "      <td>secret1</td>\n",
       "      <td>taint1</td>\n",
       "      <td>a()</td>\n",
       "      <td>Foo</td>\n",
       "    </tr>\n",
       "    <tr>\n",
       "      <th>1</th>\n",
       "      <td>1</td>\n",
       "      <td>secret2</td>\n",
       "      <td>taint2</td>\n",
       "      <td>a()</td>\n",
       "      <td>Foo</td>\n",
       "    </tr>\n",
       "    <tr>\n",
       "      <th>2</th>\n",
       "      <td>2</td>\n",
       "      <td>***secret1***</td>\n",
       "      <td>taint3</td>\n",
       "      <td>mlem()</td>\n",
       "      <td>Cats</td>\n",
       "    </tr>\n",
       "    <tr>\n",
       "      <th>3</th>\n",
       "      <td>3</td>\n",
       "      <td>secretmax1</td>\n",
       "      <td>taintmax</td>\n",
       "      <td>mlem()</td>\n",
       "      <td>Cats</td>\n",
       "    </tr>\n",
       "    <tr>\n",
       "      <th>4</th>\n",
       "      <td>4</td>\n",
       "      <td>secretmax2</td>\n",
       "      <td>taintmax</td>\n",
       "      <td>mlem()</td>\n",
       "      <td>Cats</td>\n",
       "    </tr>\n",
       "    <tr>\n",
       "      <th>5</th>\n",
       "      <td>5</td>\n",
       "      <td>secret_unused</td>\n",
       "      <td>taint4</td>\n",
       "      <td>mlem()</td>\n",
       "      <td>Cats</td>\n",
       "    </tr>\n",
       "  </tbody>\n",
       "</table>\n",
       "</div>"
      ],
      "text/plain": [
       "   d string_observed taint_function_name context_method context_class\n",
       "0  0         secret1              taint1            a()           Foo\n",
       "1  1         secret2              taint2            a()           Foo\n",
       "2  2   ***secret1***              taint3         mlem()          Cats\n",
       "3  3      secretmax1            taintmax         mlem()          Cats\n",
       "4  4      secretmax2            taintmax         mlem()          Cats\n",
       "5  5   secret_unused              taint4         mlem()          Cats"
      ]
     },
     "execution_count": 50,
     "metadata": {},
     "output_type": "execute_result"
    }
   ],
   "source": [
    "df2 = pd.DataFrame({\"d\": list(range(6)), \n",
    "                    \"string_observed\": [\"secret1\", \"secret2\", \"***secret1***\", \"secretmax1\", \"secretmax2\", \"secret_unused\"], \n",
    "                    \"taint_function_name\": [\"taint1\", \"taint2\", \"taint3\", \"taintmax\", \"taintmax\", \"taint4\"],\n",
    "                    \"context_method\": [\"a()\", \"a()\", \"mlem()\", \"mlem()\", \"mlem()\", \"mlem()\"],\n",
    "                    \"context_class\": [\"Foo\", \"Foo\", \"Cats\", \"Cats\", \"Cats\", \"Cats\"],\n",
    "                    })\n",
    "df2\n"
   ]
  },
  {
   "cell_type": "code",
   "execution_count": 56,
   "metadata": {},
   "outputs": [
    {
     "data": {
      "application/vnd.microsoft.datawrangler.viewer.v0+json": {
       "columns": [
        {
         "name": "index",
         "rawType": "int64",
         "type": "integer"
        },
        {
         "name": "a",
         "rawType": "int64",
         "type": "integer"
        },
        {
         "name": "expected_string_observed",
         "rawType": "object",
         "type": "string"
        },
        {
         "name": "scenario",
         "rawType": "object",
         "type": "string"
        },
        {
         "name": "source_function",
         "rawType": "object",
         "type": "string"
        },
        {
         "name": "source_function_context",
         "rawType": "object",
         "type": "string"
        }
       ],
       "conversionMethod": "pd.DataFrame",
       "ref": "d3362b40-2d69-4846-8433-405f2bbb6abe",
       "rows": [
        [
         "0",
         "0",
         "secret1",
         "profile",
         "getSecret()",
         ""
        ],
        [
         "1",
         "1",
         "secret1",
         "profile-observation",
         "getSecret()",
         "CatTown/kibble()"
        ],
        [
         "2",
         "2",
         "secret2",
         "profile",
         "",
         ""
        ],
        [
         "3",
         "3",
         "secret3",
         "profile",
         "",
         ""
        ],
        [
         "4",
         "4",
         "***secret1***",
         "intercept",
         "getImei()",
         "CatTown/build()"
        ],
        [
         "5",
         "5",
         "***secret2***",
         "intercept",
         "getLocale()",
         "CatTown/build()"
        ]
       ],
       "shape": {
        "columns": 5,
        "rows": 6
       }
      },
      "text/html": [
       "<div>\n",
       "<style scoped>\n",
       "    .dataframe tbody tr th:only-of-type {\n",
       "        vertical-align: middle;\n",
       "    }\n",
       "\n",
       "    .dataframe tbody tr th {\n",
       "        vertical-align: top;\n",
       "    }\n",
       "\n",
       "    .dataframe thead th {\n",
       "        text-align: right;\n",
       "    }\n",
       "</style>\n",
       "<table border=\"1\" class=\"dataframe\">\n",
       "  <thead>\n",
       "    <tr style=\"text-align: right;\">\n",
       "      <th></th>\n",
       "      <th>a</th>\n",
       "      <th>expected_string_observed</th>\n",
       "      <th>scenario</th>\n",
       "      <th>source_function</th>\n",
       "      <th>source_function_context</th>\n",
       "    </tr>\n",
       "  </thead>\n",
       "  <tbody>\n",
       "    <tr>\n",
       "      <th>0</th>\n",
       "      <td>0</td>\n",
       "      <td>secret1</td>\n",
       "      <td>profile</td>\n",
       "      <td>getSecret()</td>\n",
       "      <td></td>\n",
       "    </tr>\n",
       "    <tr>\n",
       "      <th>1</th>\n",
       "      <td>1</td>\n",
       "      <td>secret1</td>\n",
       "      <td>profile-observation</td>\n",
       "      <td>getSecret()</td>\n",
       "      <td>CatTown/kibble()</td>\n",
       "    </tr>\n",
       "    <tr>\n",
       "      <th>2</th>\n",
       "      <td>2</td>\n",
       "      <td>secret2</td>\n",
       "      <td>profile</td>\n",
       "      <td></td>\n",
       "      <td></td>\n",
       "    </tr>\n",
       "    <tr>\n",
       "      <th>3</th>\n",
       "      <td>3</td>\n",
       "      <td>secret3</td>\n",
       "      <td>profile</td>\n",
       "      <td></td>\n",
       "      <td></td>\n",
       "    </tr>\n",
       "    <tr>\n",
       "      <th>4</th>\n",
       "      <td>4</td>\n",
       "      <td>***secret1***</td>\n",
       "      <td>intercept</td>\n",
       "      <td>getImei()</td>\n",
       "      <td>CatTown/build()</td>\n",
       "    </tr>\n",
       "    <tr>\n",
       "      <th>5</th>\n",
       "      <td>5</td>\n",
       "      <td>***secret2***</td>\n",
       "      <td>intercept</td>\n",
       "      <td>getLocale()</td>\n",
       "      <td>CatTown/build()</td>\n",
       "    </tr>\n",
       "  </tbody>\n",
       "</table>\n",
       "</div>"
      ],
      "text/plain": [
       "   a expected_string_observed             scenario source_function  \\\n",
       "0  0                  secret1              profile     getSecret()   \n",
       "1  1                  secret1  profile-observation     getSecret()   \n",
       "2  2                  secret2              profile                   \n",
       "3  3                  secret3              profile                   \n",
       "4  4            ***secret1***            intercept       getImei()   \n",
       "5  5            ***secret2***            intercept     getLocale()   \n",
       "\n",
       "  source_function_context  \n",
       "0                          \n",
       "1        CatTown/kibble()  \n",
       "2                          \n",
       "3                          \n",
       "4         CatTown/build()  \n",
       "5         CatTown/build()  "
      ]
     },
     "execution_count": 56,
     "metadata": {},
     "output_type": "execute_result"
    }
   ],
   "source": [
    "# def test_apply_flow_mapping_cross_demo():\n",
    "\n",
    "df3 = pd.DataFrame({\"a\": list(range(6)), \n",
    "                    \"expected_string_observed\": [\"secret1\", \"secret1\", \"secret2\", \"secret3\", \"***secret1***\", \"***secret2***\"],\n",
    "                    \"scenario\": [\"profile\", \"profile-observation\", \"profile\", \"profile\", \"intercept\", \"intercept\"],\n",
    "                    \"source_function\": [\"getSecret()\", \"getSecret()\", \"\", \"\", \"getImei()\", \"getLocale()\"],\n",
    "                    \"source_function_context\": [\"\", \"CatTown/kibble()\", \"\", \"\", \"CatTown/build()\", \"CatTown/build()\"],\n",
    "                    })\n",
    "\n",
    "df3"
   ]
  },
  {
   "cell_type": "code",
   "execution_count": 58,
   "metadata": {},
   "outputs": [
    {
     "data": {
      "application/vnd.microsoft.datawrangler.viewer.v0+json": {
       "columns": [
        {
         "name": "index",
         "rawType": "int64",
         "type": "integer"
        },
        {
         "name": "d",
         "rawType": "int64",
         "type": "integer"
        },
        {
         "name": "string_observed",
         "rawType": "object",
         "type": "string"
        },
        {
         "name": "taint_function_name",
         "rawType": "object",
         "type": "string"
        },
        {
         "name": "context_method",
         "rawType": "object",
         "type": "string"
        },
        {
         "name": "context_class",
         "rawType": "object",
         "type": "string"
        },
        {
         "name": "a",
         "rawType": "float64",
         "type": "float"
        },
        {
         "name": "expected_string_observed",
         "rawType": "object",
         "type": "unknown"
        },
        {
         "name": "scenario",
         "rawType": "object",
         "type": "unknown"
        },
        {
         "name": "source_function",
         "rawType": "object",
         "type": "unknown"
        },
        {
         "name": "source_function_context",
         "rawType": "object",
         "type": "unknown"
        }
       ],
       "conversionMethod": "pd.DataFrame",
       "ref": "34b4f9dd-eb70-44a2-8edd-bcab828db83c",
       "rows": [
        [
         "0",
         "0",
         "secret1",
         "taint1",
         "a()",
         "Foo",
         "0.0",
         "secret1",
         "profile",
         "getSecret()",
         ""
        ],
        [
         "1",
         "0",
         "secret1",
         "taint1",
         "a()",
         "Foo",
         "1.0",
         "secret1",
         "profile-observation",
         "getSecret()",
         "CatTown/kibble()"
        ],
        [
         "2",
         "1",
         "secret2",
         "taint2",
         "a()",
         "Foo",
         "2.0",
         "secret2",
         "profile",
         "",
         ""
        ],
        [
         "3",
         "2",
         "***secret1***",
         "taint3",
         "mlem()",
         "Cats",
         "4.0",
         "***secret1***",
         "intercept",
         "getImei()",
         "CatTown/build()"
        ],
        [
         "4",
         "3",
         "secretmax1",
         "taintmax",
         "mlem()",
         "Cats",
         null,
         null,
         null,
         null,
         null
        ],
        [
         "5",
         "4",
         "secretmax2",
         "taintmax",
         "mlem()",
         "Cats",
         null,
         null,
         null,
         null,
         null
        ],
        [
         "6",
         "5",
         "secret_unused",
         "taint4",
         "mlem()",
         "Cats",
         null,
         null,
         null,
         null,
         null
        ]
       ],
       "shape": {
        "columns": 10,
        "rows": 7
       }
      },
      "text/html": [
       "<div>\n",
       "<style scoped>\n",
       "    .dataframe tbody tr th:only-of-type {\n",
       "        vertical-align: middle;\n",
       "    }\n",
       "\n",
       "    .dataframe tbody tr th {\n",
       "        vertical-align: top;\n",
       "    }\n",
       "\n",
       "    .dataframe thead th {\n",
       "        text-align: right;\n",
       "    }\n",
       "</style>\n",
       "<table border=\"1\" class=\"dataframe\">\n",
       "  <thead>\n",
       "    <tr style=\"text-align: right;\">\n",
       "      <th></th>\n",
       "      <th>d</th>\n",
       "      <th>string_observed</th>\n",
       "      <th>taint_function_name</th>\n",
       "      <th>context_method</th>\n",
       "      <th>context_class</th>\n",
       "      <th>a</th>\n",
       "      <th>expected_string_observed</th>\n",
       "      <th>scenario</th>\n",
       "      <th>source_function</th>\n",
       "      <th>source_function_context</th>\n",
       "    </tr>\n",
       "  </thead>\n",
       "  <tbody>\n",
       "    <tr>\n",
       "      <th>0</th>\n",
       "      <td>0</td>\n",
       "      <td>secret1</td>\n",
       "      <td>taint1</td>\n",
       "      <td>a()</td>\n",
       "      <td>Foo</td>\n",
       "      <td>0.0</td>\n",
       "      <td>secret1</td>\n",
       "      <td>profile</td>\n",
       "      <td>getSecret()</td>\n",
       "      <td></td>\n",
       "    </tr>\n",
       "    <tr>\n",
       "      <th>1</th>\n",
       "      <td>0</td>\n",
       "      <td>secret1</td>\n",
       "      <td>taint1</td>\n",
       "      <td>a()</td>\n",
       "      <td>Foo</td>\n",
       "      <td>1.0</td>\n",
       "      <td>secret1</td>\n",
       "      <td>profile-observation</td>\n",
       "      <td>getSecret()</td>\n",
       "      <td>CatTown/kibble()</td>\n",
       "    </tr>\n",
       "    <tr>\n",
       "      <th>2</th>\n",
       "      <td>1</td>\n",
       "      <td>secret2</td>\n",
       "      <td>taint2</td>\n",
       "      <td>a()</td>\n",
       "      <td>Foo</td>\n",
       "      <td>2.0</td>\n",
       "      <td>secret2</td>\n",
       "      <td>profile</td>\n",
       "      <td></td>\n",
       "      <td></td>\n",
       "    </tr>\n",
       "    <tr>\n",
       "      <th>3</th>\n",
       "      <td>2</td>\n",
       "      <td>***secret1***</td>\n",
       "      <td>taint3</td>\n",
       "      <td>mlem()</td>\n",
       "      <td>Cats</td>\n",
       "      <td>4.0</td>\n",
       "      <td>***secret1***</td>\n",
       "      <td>intercept</td>\n",
       "      <td>getImei()</td>\n",
       "      <td>CatTown/build()</td>\n",
       "    </tr>\n",
       "    <tr>\n",
       "      <th>4</th>\n",
       "      <td>3</td>\n",
       "      <td>secretmax1</td>\n",
       "      <td>taintmax</td>\n",
       "      <td>mlem()</td>\n",
       "      <td>Cats</td>\n",
       "      <td>NaN</td>\n",
       "      <td>NaN</td>\n",
       "      <td>NaN</td>\n",
       "      <td>NaN</td>\n",
       "      <td>NaN</td>\n",
       "    </tr>\n",
       "    <tr>\n",
       "      <th>5</th>\n",
       "      <td>4</td>\n",
       "      <td>secretmax2</td>\n",
       "      <td>taintmax</td>\n",
       "      <td>mlem()</td>\n",
       "      <td>Cats</td>\n",
       "      <td>NaN</td>\n",
       "      <td>NaN</td>\n",
       "      <td>NaN</td>\n",
       "      <td>NaN</td>\n",
       "      <td>NaN</td>\n",
       "    </tr>\n",
       "    <tr>\n",
       "      <th>6</th>\n",
       "      <td>5</td>\n",
       "      <td>secret_unused</td>\n",
       "      <td>taint4</td>\n",
       "      <td>mlem()</td>\n",
       "      <td>Cats</td>\n",
       "      <td>NaN</td>\n",
       "      <td>NaN</td>\n",
       "      <td>NaN</td>\n",
       "      <td>NaN</td>\n",
       "      <td>NaN</td>\n",
       "    </tr>\n",
       "  </tbody>\n",
       "</table>\n",
       "</div>"
      ],
      "text/plain": [
       "   d string_observed taint_function_name context_method context_class    a  \\\n",
       "0  0         secret1              taint1            a()           Foo  0.0   \n",
       "1  0         secret1              taint1            a()           Foo  1.0   \n",
       "2  1         secret2              taint2            a()           Foo  2.0   \n",
       "3  2   ***secret1***              taint3         mlem()          Cats  4.0   \n",
       "4  3      secretmax1            taintmax         mlem()          Cats  NaN   \n",
       "5  4      secretmax2            taintmax         mlem()          Cats  NaN   \n",
       "6  5   secret_unused              taint4         mlem()          Cats  NaN   \n",
       "\n",
       "  expected_string_observed             scenario source_function  \\\n",
       "0                  secret1              profile     getSecret()   \n",
       "1                  secret1  profile-observation     getSecret()   \n",
       "2                  secret2              profile                   \n",
       "3            ***secret1***            intercept       getImei()   \n",
       "4                      NaN                  NaN             NaN   \n",
       "5                      NaN                  NaN             NaN   \n",
       "6                      NaN                  NaN             NaN   \n",
       "\n",
       "  source_function_context  \n",
       "0                          \n",
       "1        CatTown/kibble()  \n",
       "2                          \n",
       "3         CatTown/build()  \n",
       "4                     NaN  \n",
       "5                     NaN  \n",
       "6                     NaN  "
      ]
     },
     "execution_count": 58,
     "metadata": {},
     "output_type": "execute_result"
    }
   ],
   "source": [
    "df2.merge(df3, how=\"left\", left_on=[\"string_observed\"], right_on=[\"expected_string_observed\"])\n",
    "# df2.merge(df3, how=\"outer\", left_on=[\"string_observed\", ], right_on=[\"expected_string_observed\"])"
   ]
  },
  {
   "cell_type": "code",
   "execution_count": null,
   "metadata": {},
   "outputs": [],
   "source": []
  }
 ],
 "metadata": {
  "kernelspec": {
   "display_name": "condysta",
   "language": "python",
   "name": "python3"
  },
  "language_info": {
   "codemirror_mode": {
    "name": "ipython",
    "version": 3
   },
   "file_extension": ".py",
   "mimetype": "text/x-python",
   "name": "python",
   "nbconvert_exporter": "python",
   "pygments_lexer": "ipython3",
   "version": "3.13.0"
  }
 },
 "nbformat": 4,
 "nbformat_minor": 2
}
